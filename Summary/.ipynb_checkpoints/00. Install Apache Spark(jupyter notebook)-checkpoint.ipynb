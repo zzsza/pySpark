{
 "cells": [
  {
   "cell_type": "markdown",
   "metadata": {},
   "source": [
    "Windows \n",
    "1. Install a JDK (Java Development Kit) from http://www.oracle.com/technetwork/java/javase/downloads/index.html . Keep track of where you installed the JDK; you’ll need that later. \n",
    "2. Download a pre-built version of Apache Spark from https://spark.apache.org/downloads.html \n",
    "3. If necessary, download and install WinRAR so you can extract the .tgz file you downloaded. http://www.rarlab.com/download.htm \n",
    "4. Extract the Spark archive, and copy its contents into C:\\spark after creating that directory.  You should end up with directories like c:\\spark\\bin, c:\\spark\\conf, etc.\n",
    "5. Download winutils.exe from https://sundog-spark.s3.amazonaws.com/winutils.exe and move it into a C:\\winutils\\bin folder that you’ve created. (note, this is a 64-bit application. If you are on a 32-bit version of Windows, you’ll need to search for a 32-bit build of winutils.exe for Hadoop.) \n",
    "6. Open the the c:\\spark\\conf folder, and make sure “File Name Extensions” is checked in the “view” tab of Windows Explorer. Rename the log4j.properties.template file to log4j.properties. Edit this file (using Wordpad or something similar) and change the error level from INFO to ERROR for log4j.rootCategory \n",
    "7. Right-click your Windows menu, select Control Panel, System and Security, and then System. Click on “Advanced System Settings” and then the “Environment Variables” button. \n",
    "8. Add the following new USER variables: a. SPARK_HOME  c:\\spark b. JAVA_HOME (the path you installed the JDK to in step 1, for example C:\\Program Files\\Java\\jdk1.8.0_101) c. HADOOP HOME c:\\winutils \n",
    "9. Add the following paths to your PATH user variable: %SPARK_HOME%\\bin %JAVA_HOME%\\bin \n",
    "10. Close the environment variable screen and the control panels. \n",
    "11. Install the latest Enthought Canopy from https://store.enthought.com/downloads/#default \n",
    "12. Test it out! \n",
    "\n",
    "    a. Open up a Windows command prompt in administrator mode. \n",
    "    \n",
    "    b. Enter cd c:\\spark and then dir to get a directory listing. \n",
    "    \n",
    "    c. Look for a text file we can play with, like README.md or CHANGES.txt\n",
    "    \n",
    "    d. Enter pyspark \n",
    "    \n",
    "    e. At this point you should have a >>> prompt. If not, double check the steps above. \n",
    "    \n",
    "    f. Enter rdd = sc.textFile(“README.md”) (or whatever text file you’ve found) \n",
    "    \n",
    "    g. Enter rdd.count() \n",
    "    \n",
    "    h. You should get a count of the number of lines in that file! Congratulations, you just ran your first Spark program! \n",
    "    \n",
    "    i. Hit control-D to exit the spark shell, and close the console window\n",
    "    \n",
    "    j. You’ve got everything set up! Hooray! "
   ]
  },
  {
   "cell_type": "code",
   "execution_count": null,
   "metadata": {
    "collapsed": true
   },
   "outputs": [],
   "source": []
  }
 ],
 "metadata": {
  "kernelspec": {
   "display_name": "Python 3",
   "language": "python",
   "name": "python3"
  },
  "language_info": {
   "codemirror_mode": {
    "name": "ipython",
    "version": 3
   },
   "file_extension": ".py",
   "mimetype": "text/x-python",
   "name": "python",
   "nbconvert_exporter": "python",
   "pygments_lexer": "ipython3",
   "version": "3.5.2"
  }
 },
 "nbformat": 4,
 "nbformat_minor": 0
}
