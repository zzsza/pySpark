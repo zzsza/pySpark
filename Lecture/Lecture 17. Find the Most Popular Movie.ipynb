{
 "cells": [
  {
   "cell_type": "code",
   "execution_count": 1,
   "metadata": {
    "collapsed": true
   },
   "outputs": [],
   "source": [
    "from pyspark import SparkConf, SparkContext\n",
    "\n",
    "conf = SparkConf().setMaster(\"local\").setAppName(\"PopularMovies\")\n",
    "sc = SparkContext(conf = conf)"
   ]
  },
  {
   "cell_type": "code",
   "execution_count": 2,
   "metadata": {
    "collapsed": true
   },
   "outputs": [],
   "source": [
    "lines = sc.textFile(\"../data/ml-100k/u.data\")"
   ]
  },
  {
   "cell_type": "code",
   "execution_count": 3,
   "metadata": {
    "collapsed": false
   },
   "outputs": [
    {
     "data": {
      "text/plain": [
       "['196\\t242\\t3\\t881250949',\n",
       " '186\\t302\\t3\\t891717742',\n",
       " '22\\t377\\t1\\t878887116',\n",
       " '244\\t51\\t2\\t880606923',\n",
       " '166\\t346\\t1\\t886397596']"
      ]
     },
     "execution_count": 3,
     "metadata": {},
     "output_type": "execute_result"
    }
   ],
   "source": [
    "lines.collect()[:5]"
   ]
  },
  {
   "cell_type": "code",
   "execution_count": 9,
   "metadata": {
    "collapsed": true
   },
   "outputs": [],
   "source": [
    "movies = lines.map(lambda x: (int(x.split()[1]), 1))"
   ]
  },
  {
   "cell_type": "code",
   "execution_count": 10,
   "metadata": {
    "collapsed": false
   },
   "outputs": [
    {
     "data": {
      "text/plain": [
       "[(242, 1), (302, 1), (377, 1), (51, 1), (346, 1)]"
      ]
     },
     "execution_count": 10,
     "metadata": {},
     "output_type": "execute_result"
    }
   ],
   "source": [
    "movies.collect()[:5]"
   ]
  },
  {
   "cell_type": "code",
   "execution_count": 11,
   "metadata": {
    "collapsed": true
   },
   "outputs": [],
   "source": [
    "movieCounts = movies.reduceByKey(lambda x, y : x + y)"
   ]
  },
  {
   "cell_type": "code",
   "execution_count": 12,
   "metadata": {
    "collapsed": false
   },
   "outputs": [
    {
     "data": {
      "text/plain": [
       "[(1, 452), (2, 131), (3, 90), (4, 209), (5, 86)]"
      ]
     },
     "execution_count": 12,
     "metadata": {},
     "output_type": "execute_result"
    }
   ],
   "source": [
    "movieCounts.collect()[:5]"
   ]
  },
  {
   "cell_type": "code",
   "execution_count": 21,
   "metadata": {
    "collapsed": false
   },
   "outputs": [],
   "source": [
    "flipped = movieCounts.map( lambda xy: (xy[1],xy[0]) ) \n",
    "# 순서를 바꿈"
   ]
  },
  {
   "cell_type": "code",
   "execution_count": 22,
   "metadata": {
    "collapsed": false
   },
   "outputs": [
    {
     "data": {
      "text/plain": [
       "[(452, 1), (131, 2), (90, 3), (209, 4), (86, 5)]"
      ]
     },
     "execution_count": 22,
     "metadata": {},
     "output_type": "execute_result"
    }
   ],
   "source": [
    "flipped.collect()[:5]"
   ]
  },
  {
   "cell_type": "code",
   "execution_count": 36,
   "metadata": {
    "collapsed": false
   },
   "outputs": [
    {
     "name": "stdout",
     "output_type": "stream",
     "text": [
      "(232, 282)\n",
      "(236, 11)\n",
      "(239, 185)\n",
      "(239, 197)\n",
      "(240, 245)\n",
      "(240, 323)\n",
      "(241, 194)\n",
      "(243, 144)\n",
      "(243, 483)\n",
      "(244, 125)\n",
      "(244, 228)\n",
      "(246, 132)\n",
      "(247, 153)\n",
      "(250, 475)\n",
      "(251, 70)\n",
      "(251, 186)\n",
      "(251, 196)\n",
      "(251, 333)\n",
      "(254, 546)\n",
      "(255, 268)\n",
      "(256, 97)\n",
      "(256, 238)\n",
      "(259, 135)\n",
      "(259, 289)\n",
      "(261, 82)\n",
      "(264, 357)\n",
      "(267, 12)\n",
      "(267, 742)\n",
      "(268, 275)\n",
      "(272, 111)\n",
      "(275, 89)\n",
      "(276, 28)\n",
      "(276, 191)\n",
      "(280, 202)\n",
      "(280, 234)\n",
      "(283, 64)\n",
      "(284, 176)\n",
      "(290, 216)\n",
      "(291, 183)\n",
      "(293, 15)\n",
      "(293, 25)\n",
      "(293, 118)\n",
      "(295, 96)\n",
      "(295, 328)\n",
      "(297, 22)\n",
      "(297, 302)\n",
      "(298, 276)\n",
      "(298, 318)\n",
      "(299, 9)\n",
      "(300, 423)\n",
      "(301, 195)\n",
      "(303, 257)\n",
      "(315, 269)\n",
      "(316, 168)\n",
      "(316, 748)\n",
      "(321, 69)\n",
      "(324, 173)\n",
      "(326, 151)\n",
      "(331, 210)\n",
      "(336, 79)\n",
      "(344, 405)\n",
      "(350, 204)\n",
      "(350, 313)\n",
      "(365, 222)\n",
      "(367, 172)\n",
      "(378, 117)\n",
      "(384, 237)\n",
      "(390, 98)\n",
      "(392, 7)\n",
      "(394, 56)\n",
      "(413, 127)\n",
      "(420, 174)\n",
      "(429, 121)\n",
      "(431, 300)\n",
      "(452, 1)\n",
      "(478, 288)\n",
      "(481, 286)\n",
      "(485, 294)\n",
      "(507, 181)\n",
      "(508, 100)\n",
      "(509, 258)\n",
      "(583, 50)\n"
     ]
    }
   ],
   "source": [
    "sortedMovies = flipped.sortByKey()\n",
    "\n",
    "results = sortedMovies.collect()[1600:]\n",
    "\n",
    "for result in results:\n",
    "    print(result)\n"
   ]
  },
  {
   "cell_type": "code",
   "execution_count": null,
   "metadata": {
    "collapsed": true
   },
   "outputs": [],
   "source": [
    "# 50번 영화를 u.item에서 찾아보니 스타워즈였음!!"
   ]
  }
 ],
 "metadata": {
  "kernelspec": {
   "display_name": "Python 3",
   "language": "python",
   "name": "python3"
  },
  "language_info": {
   "codemirror_mode": {
    "name": "ipython",
    "version": 3
   },
   "file_extension": ".py",
   "mimetype": "text/x-python",
   "name": "python",
   "nbconvert_exporter": "python",
   "pygments_lexer": "ipython3",
   "version": "3.5.2"
  }
 },
 "nbformat": 4,
 "nbformat_minor": 0
}
