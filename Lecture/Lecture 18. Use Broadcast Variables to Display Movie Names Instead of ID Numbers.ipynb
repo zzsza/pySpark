{
 "cells": [
  {
   "cell_type": "code",
   "execution_count": 1,
   "metadata": {
    "collapsed": true
   },
   "outputs": [],
   "source": [
    "from pyspark import SparkConf, SparkContext"
   ]
  },
  {
   "cell_type": "code",
   "execution_count": 18,
   "metadata": {
    "collapsed": true
   },
   "outputs": [],
   "source": [
    "def loadMovieNames():\n",
    "    movieNames = {}\n",
    "    with open(\"../data/ml-100k/u.ITEM\", \"r\", encoding=\"ISO-8859-1\") as f:\n",
    "        for line in f:\n",
    "            fields = line.split('|')\n",
    "            movieNames[int(fields[0])] = fields[1] # Dictionary형으로 데이터 삽입\n",
    "    return movieNames"
   ]
  },
  {
   "cell_type": "code",
   "execution_count": 12,
   "metadata": {
    "collapsed": false
   },
   "outputs": [],
   "source": [
    "conf = SparkConf().setMaster(\"local\").setAppName(\"PopularMovies\")\n",
    "sc = SparkContext(conf = conf)"
   ]
  },
  {
   "cell_type": "markdown",
   "metadata": {},
   "source": [
    "## broadcast"
   ]
  },
  {
   "cell_type": "code",
   "execution_count": 19,
   "metadata": {
    "collapsed": false
   },
   "outputs": [],
   "source": [
    "nameDict = sc.broadcast(loadMovieNames())"
   ]
  },
  {
   "cell_type": "code",
   "execution_count": 28,
   "metadata": {
    "collapsed": false
   },
   "outputs": [
    {
     "data": {
      "text/plain": [
       "'Toy Story (1995)'"
      ]
     },
     "execution_count": 28,
     "metadata": {},
     "output_type": "execute_result"
    }
   ],
   "source": [
    "nameDict.value[1]"
   ]
  },
  {
   "cell_type": "code",
   "execution_count": 29,
   "metadata": {
    "collapsed": true
   },
   "outputs": [],
   "source": [
    "lines = sc.textFile(\"../data/ml-100k/u.data\")\n",
    "movies = lines.map(lambda x: (int(x.split()[1]), 1))\n",
    "movieCounts = movies.reduceByKey(lambda x, y: x + y)\n",
    "\n",
    "flipped = movieCounts.map( lambda x : (x[1], x[0]))\n",
    "sortedMovies = flipped.sortByKey()"
   ]
  },
  {
   "cell_type": "code",
   "execution_count": 30,
   "metadata": {
    "collapsed": false
   },
   "outputs": [
    {
     "data": {
      "text/plain": [
       "[(1, 599), (1, 677), (1, 711), (1, 814), (1, 830)]"
      ]
     },
     "execution_count": 30,
     "metadata": {},
     "output_type": "execute_result"
    }
   ],
   "source": [
    "sortedMovies.collect()[:5]"
   ]
  },
  {
   "cell_type": "code",
   "execution_count": 31,
   "metadata": {
    "collapsed": true
   },
   "outputs": [],
   "source": [
    "sortedMoviesWithNames = sortedMovies.map(lambda countMovie : (nameDict.value[countMovie[1]], countMovie[0]))"
   ]
  },
  {
   "cell_type": "code",
   "execution_count": 32,
   "metadata": {
    "collapsed": false
   },
   "outputs": [
    {
     "name": "stdout",
     "output_type": "stream",
     "text": [
      "('George of the Jungle (1997)', 162)\n",
      "('Secrets & Lies (1996)', 162)\n",
      "('Kingpin (1996)', 162)\n",
      "('Birds, The (1963)', 162)\n",
      "('Nutty Professor, The (1996)', 163)\n",
      "('Cool Hand Luke (1967)', 164)\n",
      "('American President, The (1995)', 164)\n",
      "('Pretty Woman (1990)', 164)\n",
      "('Bridge on the River Kwai, The (1957)', 165)\n",
      "('Die Hard 2 (1990)', 166)\n",
      "('Everyone Says I Love You (1996)', 168)\n",
      "('Piano, The (1993)', 168)\n",
      "('Mother (1996)', 169)\n",
      "('Sleepers (1996)', 169)\n",
      "('In the Line of Fire (1993)', 169)\n",
      "('Full Metal Jacket (1987)', 170)\n",
      "('Clueless (1995)', 170)\n",
      "('Ghost (1990)', 170)\n",
      "('Grease (1978)', 170)\n",
      "('Gone with the Wind (1939)', 171)\n",
      "('Big Night (1996)', 171)\n",
      "('Cape Fear (1991)', 171)\n",
      "('Star Trek III: The Search for Spock (1984)', 171)\n",
      "('Heathers (1989)', 171)\n",
      "('Glory (1989)', 171)\n",
      "('Snow White and the Seven Dwarfs (1937)', 172)\n",
      "(\"My Best Friend's Wedding (1997)\", 172)\n",
      "('Lawrence of Arabia (1962)', 173)\n",
      "('Rumble in the Bronx (1995)', 174)\n",
      "(\"Monty Python's Life of Brian (1979)\", 174)\n",
      "('Fantasia (1940)', 174)\n",
      "('Quiz Show (1994)', 175)\n",
      "('G.I. Jane (1997)', 175)\n",
      "('Cop Land (1997)', 175)\n",
      "('Much Ado About Nothing (1993)', 176)\n",
      "('That Thing You Do! (1996)', 176)\n",
      "('Emma (1996)', 177)\n",
      "('Mary Poppins (1964)', 178)\n",
      "('Primal Fear (1996)', 178)\n",
      "('Vertigo (1958)', 179)\n",
      "('North by Northwest (1959)', 179)\n",
      "('Clear and Present Danger (1994)', 179)\n",
      "('Annie Hall (1977)', 180)\n",
      "('Dave (1993)', 180)\n",
      "('Tomorrow Never Dies (1997)', 180)\n",
      "('Taxi Driver (1976)', 182)\n",
      "('Unforgiven (1992)', 182)\n",
      "('Postino, Il (1994)', 183)\n",
      "('Mighty Aphrodite (1995)', 184)\n",
      "('Long Kiss Goodnight, The (1996)', 185)\n",
      "('Lone Star (1996)', 187)\n",
      "(\"Devil's Advocate, The (1997)\", 188)\n",
      "('Boogie Nights (1997)', 189)\n",
      "('Sabrina (1995)', 190)\n",
      "('This Is Spinal Tap (1984)', 191)\n",
      "('Mrs. Doubtfire (1993)', 192)\n",
      "('Tin Cup (1996)', 193)\n",
      "('Face/Off (1997)', 194)\n",
      "('Dr. Strangelove or: How I Learned to Stop Worrying and Love the Bomb (1963)', 194)\n",
      "('Gandhi (1982)', 195)\n",
      "('Fifth Element, The (1997)', 197)\n",
      "('Citizen Kane (1941)', 198)\n",
      "('Good Will Hunting (1997)', 198)\n",
      "('Star Trek IV: The Voyage Home (1986)', 199)\n",
      "('Young Frankenstein (1974)', 200)\n",
      "('Batman (1989)', 201)\n",
      "('Boot, Das (1981)', 201)\n",
      "('Beauty and the Beast (1991)', 202)\n",
      "('Shining, The (1980)', 206)\n",
      "('M*A*S*H (1970)', 206)\n",
      "('Eraser (1996)', 206)\n",
      "('Brazil (1985)', 208)\n",
      "('True Lies (1994)', 208)\n",
      "('Get Shorty (1995)', 209)\n",
      "('Godfather: Part II, The (1974)', 209)\n",
      "('Rear Window (1954)', 209)\n",
      "('Starship Troopers (1997)', 211)\n",
      "('Field of Dreams (1989)', 212)\n",
      "('Sleepless in Seattle (1993)', 213)\n",
      "('People vs. Larry Flynt, The (1996)', 215)\n",
      "('Butch Cassidy and the Sundance Kid (1969)', 216)\n",
      "('Mars Attacks! (1996)', 217)\n",
      "('Murder at 1600 (1997)', 218)\n",
      "('Babe (1995)', 219)\n",
      "('Aladdin (1992)', 219)\n",
      "('To Kill a Mockingbird (1962)', 219)\n",
      "('Volcano (1997)', 219)\n",
      "('Lion King, The (1994)', 220)\n",
      "('Top Gun (1986)', 220)\n",
      "('Clockwork Orange, A (1971)', 221)\n",
      "('Apocalypse Now (1979)', 221)\n",
      "('Courage Under Fire (1996)', 221)\n",
      "('Sound of Music, The (1965)', 222)\n",
      "('Heat (1995)', 223)\n",
      "('GoodFellas (1990)', 226)\n",
      "('Hunt for Red October, The (1990)', 227)\n",
      "('Stand by Me (1986)', 227)\n",
      "('In & Out (1997)', 230)\n",
      "('Speed (1994)', 230)\n",
      "(\"It's a Wonderful Life (1946)\", 231)\n",
      "('Time to Kill, A (1996)', 232)\n",
      "('Seven (Se7en) (1995)', 236)\n",
      "('Psycho (1960)', 239)\n",
      "('Graduate, The (1967)', 239)\n",
      "(\"Devil's Own, The (1997)\", 240)\n",
      "(\"Dante's Peak (1997)\", 240)\n",
      "('Sting, The (1973)', 241)\n",
      "('Die Hard (1988)', 243)\n",
      "('Casablanca (1942)', 243)\n",
      "('Phenomenon (1996)', 244)\n",
      "('Star Trek: The Wrath of Khan (1982)', 244)\n",
      "('Wizard of Oz, The (1939)', 246)\n",
      "('Fish Called Wanda, A (1988)', 247)\n",
      "('Trainspotting (1996)', 250)\n",
      "('Four Weddings and a Funeral (1994)', 251)\n",
      "('Blues Brothers, The (1980)', 251)\n",
      "('Dead Poets Society (1989)', 251)\n",
      "('Game, The (1997)', 251)\n",
      "('Broken Arrow (1996)', 254)\n",
      "('Chasing Amy (1997)', 255)\n",
      "('Dances with Wolves (1990)', 256)\n",
      "('Raising Arizona (1987)', 256)\n",
      "('2001: A Space Odyssey (1968)', 259)\n",
      "('Evita (1996)', 259)\n",
      "('Jurassic Park (1993)', 261)\n",
      "(\"One Flew Over the Cuckoo's Nest (1975)\", 264)\n",
      "('Usual Suspects, The (1995)', 267)\n",
      "('Ransom (1996)', 267)\n",
      "('Sense and Sensibility (1995)', 268)\n",
      "('Truth About Cats & Dogs, The (1996)', 272)\n",
      "('Blade Runner (1982)', 275)\n",
      "('Apollo 13 (1995)', 276)\n",
      "('Amadeus (1984)', 276)\n",
      "('Groundhog Day (1993)', 280)\n",
      "('Jaws (1975)', 280)\n",
      "('Shawshank Redemption, The (1994)', 283)\n",
      "('Aliens (1986)', 284)\n",
      "('When Harry Met Sally... (1989)', 290)\n",
      "('Alien (1979)', 291)\n",
      "(\"Mr. Holland's Opus (1995)\", 293)\n",
      "('Birdcage, The (1996)', 293)\n",
      "('Twister (1996)', 293)\n",
      "('Terminator 2: Judgment Day (1991)', 295)\n",
      "('Conspiracy Theory (1997)', 295)\n",
      "('Braveheart (1995)', 297)\n",
      "('L.A. Confidential (1997)', 297)\n",
      "('Leaving Las Vegas (1995)', 298)\n",
      "(\"Schindler's List (1993)\", 298)\n",
      "('Dead Man Walking (1995)', 299)\n",
      "('E.T. the Extra-Terrestrial (1982)', 300)\n",
      "('Terminator, The (1984)', 301)\n",
      "('Men in Black (1997)', 303)\n",
      "('Full Monty, The (1997)', 315)\n",
      "('Monty Python and the Holy Grail (1974)', 316)\n",
      "('Saint, The (1997)', 316)\n",
      "('Forrest Gump (1994)', 321)\n",
      "('Princess Bride, The (1987)', 324)\n",
      "('Willy Wonka and the Chocolate Factory (1971)', 326)\n",
      "('Indiana Jones and the Last Crusade (1989)', 331)\n",
      "('Fugitive, The (1993)', 336)\n",
      "('Mission: Impossible (1996)', 344)\n",
      "('Back to the Future (1985)', 350)\n",
      "('Titanic (1997)', 350)\n",
      "('Star Trek: First Contact (1996)', 365)\n",
      "('Empire Strikes Back, The (1980)', 367)\n",
      "('Rock, The (1996)', 378)\n",
      "('Jerry Maguire (1996)', 384)\n",
      "('Silence of the Lambs, The (1991)', 390)\n",
      "('Twelve Monkeys (1995)', 392)\n",
      "('Pulp Fiction (1994)', 394)\n",
      "('Godfather, The (1972)', 413)\n",
      "('Raiders of the Lost Ark (1981)', 420)\n",
      "('Independence Day (ID4) (1996)', 429)\n",
      "('Air Force One (1997)', 431)\n",
      "('Toy Story (1995)', 452)\n",
      "('Scream (1996)', 478)\n",
      "('English Patient, The (1996)', 481)\n",
      "('Liar Liar (1997)', 485)\n",
      "('Return of the Jedi (1983)', 507)\n",
      "('Fargo (1996)', 508)\n",
      "('Contact (1997)', 509)\n",
      "('Star Wars (1977)', 583)\n"
     ]
    }
   ],
   "source": [
    "results = sortedMoviesWithNames.collect()[1500:]\n",
    "\n",
    "for result in results:\n",
    "    print(result)"
   ]
  },
  {
   "cell_type": "code",
   "execution_count": null,
   "metadata": {
    "collapsed": true
   },
   "outputs": [],
   "source": []
  }
 ],
 "metadata": {
  "kernelspec": {
   "display_name": "Python 3",
   "language": "python",
   "name": "python3"
  },
  "language_info": {
   "codemirror_mode": {
    "name": "ipython",
    "version": 3
   },
   "file_extension": ".py",
   "mimetype": "text/x-python",
   "name": "python",
   "nbconvert_exporter": "python",
   "pygments_lexer": "ipython3",
   "version": "3.5.2"
  }
 },
 "nbformat": 4,
 "nbformat_minor": 0
}
